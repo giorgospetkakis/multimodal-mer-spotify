{
 "cells": [
  {
   "cell_type": "code",
   "execution_count": 103,
   "metadata": {},
   "outputs": [],
   "source": [
    "import pandas as pd\n",
    "import numpy as np\n",
    "import os\n",
    "import lyricsgenius\n",
    "from numpy import genfromtxt\n",
    "code = \"rBHhTGeCNOkKE03UljXrT142_zhznolRuHooknJDrJGx0AZCkauikphIaX7Abxy4\"\n",
    "genius = lyricsgenius.Genius(code)"
   ]
  },
  {
   "cell_type": "code",
   "execution_count": 20,
   "metadata": {},
   "outputs": [
    {
     "name": "stdout",
     "output_type": "stream",
     "text": [
      "C:\\DATA\\Google Drive\\KU\\Semester 2\\Cognitive Science 2\\project\\spotify\\CS2\n"
     ]
    }
   ],
   "source": [
    "cwd = os.getcwd()\n",
    "print(cwd)"
   ]
  },
  {
   "cell_type": "code",
   "execution_count": 29,
   "metadata": {},
   "outputs": [],
   "source": [
    "\n",
    "my_data = pd.read_csv('data/raw/SpotifyData.csv')\n",
    "songs = [0] * my_data.shape[0]"
   ]
  },
  {
   "cell_type": "code",
   "execution_count": 202,
   "metadata": {},
   "outputs": [
    {
     "name": "stdout",
     "output_type": "stream",
     "text": [
      "Searching for \"las flores\" by caf tacuba...\n",
      "No results found for: 'las flores caf tacuba'\n",
      "Searching for \"chega de saudade\" by joo gilberto...\n",
      "No results found for: 'chega de saudade joo gilberto'\n",
      "Searching for \"mi le m uilinn\" by karen matheson...\n",
      "No results found for: 'mi le m uilinn karen matheson'\n",
      "Searching for \"alone en la vida\" by larcenciel...\n",
      "No results found for: 'alone en la vida larcenciel'\n",
      "Searching for \"ooh la la\" by the wiseguys...\n",
      "No results found for: 'ooh la la the wiseguys'\n",
      "Searching for \"samba da minha terra\" by joo gilberto...\n",
      "No results found for: 'samba da minha terra joo gilberto'\n",
      "Searching for \"voc me faz to bem\" by detonautas roque clube...\n",
      "No results found for: 'voc me faz to bem detonautas roque clube'\n"
     ]
    }
   ],
   "source": [
    "for i in range(my_data.shape[0]):\n",
    "    if songs[i] == 0:\n",
    "        song = genius.search_song(my_data.iloc[i].title,my_data.iloc[i].artist)\n",
    "        if song is not None:\n",
    "            songs[i] = song\n"
   ]
  },
  {
   "cell_type": "code",
   "execution_count": 197,
   "metadata": {},
   "outputs": [],
   "source": [
    "import codecs\n",
    "for i in range(0,len(songs)):\n",
    "    if songs[i] != 0:\n",
    "        song = songs[i]\n",
    "        filename = \"data/lyrics/\"+str(i)+\".txt\"\n",
    "        with codecs.open(filename, 'w', 'utf-8') as file:\n",
    "            file.write(song.lyrics)"
   ]
  },
  {
   "cell_type": "code",
   "execution_count": 198,
   "metadata": {},
   "outputs": [
    {
     "data": {
      "text/plain": [
       "('All Around The World (Punk Debutante)', 'Cooler Kids')"
      ]
     },
     "execution_count": 198,
     "metadata": {},
     "output_type": "execute_result"
    }
   ],
   "source": [
    "song"
   ]
  },
  {
   "cell_type": "code",
   "execution_count": 200,
   "metadata": {},
   "outputs": [
    {
     "data": {
      "text/plain": [
       "\"All around the world\\nHey girl, hey girl, hey girl\\nZippers and your pearls, hey girl\\nWhen I walk through the door I'm a debutante\\nWhen I come through the door I'm a debutante\\n\\nThe jet is freaking, the guest list is speakin'\\nWe jet to Ibiza, the people are shrieking\\nThe world kids are cravin' a ravin ' invasion\\nI come from the future of next school new wavin'\\nNew York is so fly, my high rise is so high\\nThe height of my high style comes right from the turnstile\\n\\nAll around the world\\nHey girl, hey girl, hey girl\\nZippers and your pearls, hey girl\\nWhen I walk through the door I'm a debutante\\nWhen I come through the door I'm a debutante\\n\\nThe comic guru otaku, Tokyo\\nDj come Dj go, elavate electro\\nLondon is burning turntables are turning\\nNightclubs are discerning my love is returning,...\\n\\nAll around the world Hey girl, hey girl, hey girl\\nZippers and your pearls, hey girl\\nWhen I walk through the door I'm a debutante\\nWhen I come through the door I'm a debutante\\n\\nAll around the world\\nHey girl, hey girl, hey girl\\nZippers and your pearls, hey girl\\nWhen I walk through the door I'm a debutante\\nWhen I come through the door I'm a debutante\\n\\nAll that you want, I'm debutante\\nAll that you want , live wild and free !!!\\n\\n(the comic guru otaku, Tokyo\\nDj come Dj go,. elevate electro\\nNew York is burnin' turntables are turnin'\\nNightclubs are discerning my love is returning\\n\\nAll around the world\\nHey girl, hey girl, hey girl\\nZippers and your pearls, hey girl\\nAll around the world\\nHey girl, hey girl, hey girl\\nZippers and your pearls, hey girl\\n\\nAll around the world, Hey girl, hey girl, hey girl\""
      ]
     },
     "execution_count": 200,
     "metadata": {},
     "output_type": "execute_result"
    }
   ],
   "source": [
    "song.lyrics"
   ]
  },
  {
   "cell_type": "code",
   "execution_count": null,
   "metadata": {},
   "outputs": [],
   "source": []
  }
 ],
 "metadata": {
  "kernelspec": {
   "display_name": "Python 3",
   "language": "python",
   "name": "python3"
  }
 },
 "nbformat": 4,
 "nbformat_minor": 2
}
