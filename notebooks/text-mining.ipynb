{
 "cells": [
  {
   "cell_type": "code",
   "execution_count": 1,
   "metadata": {},
   "outputs": [],
   "source": [
    "import os\n",
    "import re\n",
    "import numpy as np\n",
    "import pandas as pd\n",
    "from nltk import word_tokenize\n",
    "import textblob as txb\n",
    "from nltk.corpus import stopwords\n",
    "import spacy\n",
    "nlp = spacy.load(\"en_core_web_lg\")\n",
    "\n",
    "stop_words = set(stopwords.words('english'))"
   ]
  },
  {
   "cell_type": "code",
   "execution_count": 258,
   "metadata": {},
   "outputs": [
    {
     "output_type": "stream",
     "name": "stdout",
     "text": "Loading Lyrics...\n"
    }
   ],
   "source": [
    "def get_lyrics():\n",
    "    print(\"Loading Lyrics...\")\n",
    "    lyrics = []\n",
    "    files = os.listdir(\"data/lyrics/\")\n",
    "    idx = [int(f.split(\".\")[0]) for f in files]\n",
    "\n",
    "    for f in files:\n",
    "        with open(\"data/lyrics/\" + f, \"r\", encoding=\"utf-8\") as lines:\n",
    "            lyrics += [\" \".join(lines)]\n",
    "    return np.array(lyrics), idx\n",
    "lyrics, idx = get_lyrics()"
   ]
  },
  {
   "cell_type": "code",
   "execution_count": 263,
   "metadata": {},
   "outputs": [],
   "source": [
    "sentiment = [txb.TextBlob(l).sentiment for l in lyrics]"
   ]
  },
  {
   "cell_type": "code",
   "execution_count": 264,
   "metadata": {},
   "outputs": [],
   "source": [
    "stripped = [[re.sub(r\"\\'|\\`|\\’|\", \"\", line.strip().lower()) for line in i.split(\"*\") if line not in [\" \", \"\", \"'\"]] for i in lyrics]"
   ]
  },
  {
   "cell_type": "code",
   "execution_count": 265,
   "metadata": {
    "tags": [
     "outputPrepend"
    ]
   },
   "outputs": [],
   "source": [
    "dupe_counts = np.zeros((len(stripped), 1))\n",
    "\n",
    "for k, song in enumerate(stripped):\n",
    "    if len(song) == 0:\n",
    "        continue\n",
    "    song_sort = sorted(song)\n",
    "    for i in range(1, len(song_sort)):\n",
    "        if song_sort[i] == (song_sort[i - 1]):\n",
    "            dupe_counts [k] += 1\n",
    "    dupe_counts[k] /= len(song_sort)"
   ]
  },
  {
   "cell_type": "code",
   "execution_count": 266,
   "metadata": {},
   "outputs": [],
   "source": [
    "joined = [\" \".join([w for w in \" \".join(x).split(\" \")]) for x in stripped]\n",
    "joined\n",
    "\n",
    "echo_counts = np.zeros((len(joined), 1))\n",
    "\n",
    "for k, song in enumerate(joined):\n",
    "    if len(song) == 0:\n",
    "        continue\n",
    "    song = song.split(\" \")\n",
    "    for i in range(1, len(song)):\n",
    "        if song[i] == (song[i - 1]):\n",
    "            echo_counts [k] += 1\n",
    "    echo_counts[k] /= len(song)"
   ]
  },
  {
   "cell_type": "code",
   "execution_count": 267,
   "metadata": {},
   "outputs": [],
   "source": [
    "spacies = [nlp(x) for x in joined]\n"
   ]
  },
  {
   "cell_type": "code",
   "execution_count": 268,
   "metadata": {
    "tags": [
     "outputPrepend",
     "outputPrepend",
     "outputPrepend",
     "outputPrepend",
     "outputPrepend",
     "outputPrepend",
     "outputPrepend",
     "outputPrepend",
     "outputPrepend",
     "outputPrepend",
     "outputPrepend",
     "outputPrepend",
     "outputPrepend",
     "outputPrepend",
     "outputPrepend",
     "outputPrepend",
     "outputPrepend",
     "outputPrepend",
     "outputPrepend",
     "outputPrepend",
     "outputPrepend",
     "outputPrepend",
     "outputPrepend",
     "outputPrepend",
     "outputPrepend",
     "outputPrepend",
     "outputPrepend",
     "outputPrepend",
     "outputPrepend",
     "outputPrepend",
     "outputPrepend",
     "outputPrepend",
     "outputPrepend",
     "outputPrepend",
     "outputPrepend",
     "outputPrepend",
     "outputPrepend",
     "outputPrepend",
     "outputPrepend",
     "outputPrepend",
     "outputPrepend",
     "outputPrepend",
     "outputPrepend",
     "outputPrepend",
     "outputPrepend",
     "outputPrepend",
     "outputPrepend",
     "outputPrepend",
     "outputPrepend",
     "outputPrepend",
     "outputPrepend",
     "outputPrepend",
     "outputPrepend",
     "outputPrepend",
     "outputPrepend"
    ]
   },
   "outputs": [],
   "source": [
    "futures = np.zeros((len(spacies)))\n",
    "\n",
    "for i, s in enumerate(spacies):\n",
    "    for w in range(1, len(s)):\n",
    "        if (s[w - 1].dep_ == 'aux' and s[w - 1].text in ['will', 'shall'] and s[w].tag_ == 'VB'):\n",
    "            futures[i] += 1"
   ]
  },
  {
   "cell_type": "code",
   "execution_count": 269,
   "metadata": {},
   "outputs": [],
   "source": [
    "from collections import Counter\n",
    "\n",
    "counts = [Counter(([token.tag_ for token in s])) for s in spacies]\n",
    "\n",
    "presents = list(map(add, futures * (-1), np.array([c[\"VB\"] + c[\"VBG\"] + c[\"VBP\"] + c[\"VBZ\"] for c in counts])))\n",
    "pasts = np.array([c[\"VBD\"] + c[\"VBN\"] for c in counts], dtype=float)\n",
    "all_verbs = presents + pasts + futures\n",
    "\n",
    "presents /= all_verbs\n",
    "futures /= all_verbs\n",
    "pasts /= all_verbs"
   ]
  },
  {
   "cell_type": "code",
   "execution_count": 270,
   "metadata": {},
   "outputs": [],
   "source": [
    "adjectives = np.array([c[\"JJ\"] + c[\"JJR\"] + c[\"JJS\"] for c in counts]).reshape(len(counts), 1)"
   ]
  },
  {
   "cell_type": "code",
   "execution_count": 271,
   "metadata": {},
   "outputs": [],
   "source": [
    "titles = pd.read_csv(\"data/raw/SpotifyData.csv\")[[\"title\"]].to_numpy()[idx]\n",
    "title_in_song = np.array([re.search(titles[i][0], joined[i]) != None for i in range(len(titles))]).reshape(titles.shape[0], 1)"
   ]
  },
  {
   "cell_type": "code",
   "execution_count": 283,
   "metadata": {},
   "outputs": [
    {
     "output_type": "execute_result",
     "data": {
      "text/plain": "array([[0.025     ],\n       [0.13211382],\n       [0.0443787 ],\n       ...,\n       [0.00829876],\n       [0.00641026],\n       [0.0530303 ]])"
     },
     "metadata": {},
     "execution_count": 283
    }
   ],
   "source": [
    "puncts = np.array([(c[\"``\"] + c[\"''\"] + c[\",\"] + c[\".\"] + c[\":\"] + c[\"NFP\"]) /sum(list(c.values())) for c in counts]).reshape(len(counts), 1)\n",
    "puncts"
   ]
  },
  {
   "cell_type": "code",
   "execution_count": 284,
   "metadata": {},
   "outputs": [],
   "source": [
    "futures = futures.reshape((futures.shape[0], 1))\n",
    "pasts = pasts.reshape((pasts.shape[0], 1))\n",
    "presents = presents.reshape((presents.shape[0], 1))\n",
    "from sklearn import preprocessing\n",
    "\n",
    "\n",
    "export = pd.DataFrame(preprocessing.scale(np.hstack((dupe_counts, echo_counts, presents, futures, pasts, adjectives, np.array(sentiment), title_in_song, puncts))), columns=[\"dupe_counts\", \"echo_counts\", \"presents\", \"futures\", \"pasts\", \"adjectives\", \"sentiment\", \"subjectivity\", \"title_in_song\", \"puncts\"])\n",
    "# export = preprocessing.scale(export)\n",
    "\n",
    "export.to_csv(\"sentiment.csv\")"
   ]
  },
  {
   "cell_type": "code",
   "execution_count": 261,
   "metadata": {},
   "outputs": [
    {
     "output_type": "execute_result",
     "data": {
      "text/plain": "'[Verse 1]\\n It’s late\\n Time for bed\\n So I sit and I wait\\n For that gin and tonic\\n To go to your head\\n \\n [Verse 2]\\n I know\\n It’s a devious plan\\n But it’s the only way that I know\\n To get those big bad car keys\\n Out of your hand\\n \\n [Chorus]\\n You know\\n That I remain a gentleman\\n But even so\\n There’s only so much\\n A gentleman can stand\\n Sleep with me\\n Oh\\n Sleep with me, tonight\\n \\n [Instrumental]\\n \\n [Verse 3]\\n My cards are on your table\\n My dreams are in your bed\\n Oh, if I was able\\n I’d be there instead\\n \\n [Outro]\\n Oh, oh\\n Oh, sleep with me tonight\\n \\n [Instrumental]'"
     },
     "metadata": {},
     "execution_count": 261
    }
   ],
   "source": [
    "lyrics[0]"
   ]
  },
  {
   "cell_type": "code",
   "execution_count": 282,
   "metadata": {},
   "outputs": [
    {
     "output_type": "execute_result",
     "data": {
      "text/plain": "160"
     },
     "metadata": {},
     "execution_count": 282
    }
   ],
   "source": [
    "sum(list(counts[0].values()))"
   ]
  },
  {
   "cell_type": "code",
   "execution_count": null,
   "metadata": {},
   "outputs": [],
   "source": []
  }
 ],
 "metadata": {
  "language_info": {
   "codemirror_mode": {
    "name": "ipython",
    "version": 3
   },
   "file_extension": ".py",
   "mimetype": "text/x-python",
   "name": "python",
   "nbconvert_exporter": "python",
   "pygments_lexer": "ipython3",
   "version": "3.8.0-final"
  },
  "orig_nbformat": 2,
  "kernelspec": {
   "name": "python38064bit4539a5a599f24d04a1e10a4002ffd2cd",
   "display_name": "Python 3.8.0 64-bit"
  }
 },
 "nbformat": 4,
 "nbformat_minor": 2
}