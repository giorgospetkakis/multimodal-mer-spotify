{
 "cells": [
  {
   "cell_type": "code",
   "execution_count": 9,
   "metadata": {
    "tags": [
     "outputPrepend"
    ]
   },
   "outputs": [
    {
     "output_type": "stream",
     "name": "stdout",
     "text": "Loading Word Embeddings...\n"
    }
   ],
   "source": [
    "# General imports\n",
    "import glob\n",
    "import os\n",
    "import re\n",
    "import numpy as np\n",
    "import pandas as pd\n",
    "from pathlib import Path\n",
    "import re\n",
    "import gensim\n",
    "from collections import defaultdict\n",
    "from sklearn.model_selection import train_test_split\n",
    "from sklearn.dummy import DummyClassifier\n",
    "from sklearn.linear_model import LogisticRegression\n",
    "from sklearn.ensemble import RandomForestClassifier, AdaBoostClassifier\n",
    "\n",
    "# Validation packages\n",
    "from sklearn.model_selection import StratifiedKFold\n",
    "from sklearn.metrics import accuracy_score, confusion_matrix\n",
    "\n",
    "from xml.etree import ElementTree as ET\n",
    "from sklearn.feature_extraction.text import TfidfVectorizer\n",
    "from sklearn.pipeline import Pipeline\n",
    "\n",
    "from nltk.corpus import stopwords \n",
    "from nltk.tokenize import word_tokenize \n",
    "\n",
    "from sklearn.metrics import precision_recall_curve\n",
    "from sklearn.metrics import PrecisionRecallDisplay\n",
    "from sklearn.metrics import roc_curve\n",
    "from sklearn.metrics import RocCurveDisplay\n",
    "  \n",
    "stop_words = set(stopwords.words('english')) \n",
    "\n",
    "def get_lyrics():\n",
    "    print(\"Loading Lyrics...\")\n",
    "\n",
    "    lyrics = []\n",
    "    files = os.listdir(\"data/lyrics/\")\n",
    "    idx = [int(f.split(\".\")[0]) for f in files]\n",
    "\n",
    "    for f in files:\n",
    "        with open(\"data/lyrics/\" + f, \"r\", encoding=\"utf-8\") as lines:\n",
    "            lyrics += [\" \".join(lines)]\n",
    "    return np.array(lyrics), idx\n",
    "\n",
    "def get_mood():\n",
    "    print(\"Loading Mood Targets...\")\n",
    "    d = pd.read_csv(\"data/preprocessed/spotify-data-preprocessed.csv\", \",\")\n",
    "    mood_vecs = [np.argmax(x) for x in d.iloc[:,-4:].to_numpy()]\n",
    "    return np.array(mood_vecs)\n",
    "\n",
    "\n",
    "print(\"Loading Word Embeddings...\")\n",
    "with open(\"data/glove.840B.300d.txt\", \"rb\") as lines:\n",
    "    w2v = {line.split()[0]: np.array(map(float, line.split()[1:]))\n",
    "           for line in lines}\n"
   ]
  },
  {
   "cell_type": "code",
   "execution_count": 13,
   "metadata": {},
   "outputs": [
    {
     "output_type": "stream",
     "name": "stdout",
     "text": "Loading Lyrics...\nLoading Mood Targets...\n"
    }
   ],
   "source": [
    "X, idx = get_lyrics() ; y = get_mood()[idx]\n",
    "sentiment = pd.read_csv(\"sentiment.csv\", index_col=0)\n",
    "# sentiment = sentiment.iloc[idx,[7, 9, 10, 12, 13, 14, 15, 28, 31, 32]].to_numpy()\n",
    "sentiment = np.nan_to_num(sentiment)\n",
    "# Change AXIS\n",
    "# axis = np.sort(np.hstack((np.where(y==2), np.where(y==3))))\n",
    "# X = X[axis,].reshape(axis.shape[1]) ; y = y[axis,].reshape(axis.shape[1])\n",
    "\n",
    "class TfidfEmbeddingVectorizer(object):\n",
    "    def __init__(self, word2vec):\n",
    "        self.word2vec = word2vec\n",
    "        self.word2weight = None\n",
    "        self.dim = 300\n",
    "\n",
    "    def fit(self, X, y):\n",
    "        tfidf = TfidfVectorizer(analyzer=lambda x: x)\n",
    "        tfidf.fit(X)\n",
    "        max_idf = max(tfidf.idf_)\n",
    "        self.word2weight = defaultdict(\n",
    "            lambda: max_idf,\n",
    "            [(w, tfidf.idf_[i]) for w, i in tfidf.vocabulary_.items()])\n",
    "\n",
    "        return self\n",
    "\n",
    "    def transform(self, X):\n",
    "        return np.array([\n",
    "                np.mean([self.word2vec[w] * self.word2weight[w]\n",
    "                         for w in words if w in self.word2vec] or\n",
    "                        [np.zeros(self.dim)], axis=0)\n",
    "                for words in X\n",
    "            ])\n",
    "\n",
    "skf = StratifiedKFold(n_splits=5)"
   ]
  },
  {
   "cell_type": "code",
   "execution_count": 16,
   "metadata": {},
   "outputs": [
    {
     "output_type": "stream",
     "name": "stdout",
     "text": "LogisticRegression()[0]\nAverage accuracy:  0.41146131805157593\nRandomForestClassifier()[0]\nAverage accuracy:  0.44011461318051576\nNuSVC()[0]\nAverage accuracy:  0.45386819484240687\n"
    }
   ],
   "source": [
    "from sklearn import svm\n",
    "\n",
    "\n",
    "models = [\n",
    "           LogisticRegression(solver = 'lbfgs'),\n",
    "           RandomForestClassifier(),\n",
    "           svm.NuSVC()\n",
    "        ]\n",
    "\n",
    "for m in models:\n",
    "    accs = []\n",
    "    for train_index, test_index in skf.split(X, y):\n",
    "        X_train, X_test = X[train_index], X[test_index]\n",
    "        y_train, y_test = y[train_index ], y[test_index]\n",
    "        s_train, s_test = sentiment[train_index], sentiment[test_index]\n",
    "        \n",
    "        model = gensim.models.Word2Vec(X_train, size=300)\n",
    "        w2v = dict(zip(model.wv.index2word, model.wv.vectors))\n",
    "        tfidf = TfidfEmbeddingVectorizer(w2v)\n",
    "        tfidf.fit(X_train, y_train)\n",
    "        embeddings = tfidf.transform(X_train)\n",
    "        e_test = tfidf.transform(X_test)\n",
    "\n",
    "        #w2v_tfidf = np.hstack((embeddings, s_train))\n",
    "        m.fit(embeddings, y_train)\n",
    "        y_pred_lr = m.predict(e_test)\n",
    "\n",
    "        accs += [accuracy_score(y_test, y_pred_lr)]\n",
    "        \n",
    "        # print(\"Accuracy: \", accs[-1])\n",
    "        # print(\"Confusion Matrix: \", confusion_matrix(y_test, y_pred_lr))\n",
    "    print(f\"{m}[0]\")\n",
    "    print(\"Average accuracy: \", np.mean(accs))\n"
   ]
  },
  {
   "cell_type": "code",
   "execution_count": 6,
   "metadata": {},
   "outputs": [
    {
     "output_type": "execute_result",
     "data": {
      "text/plain": "(1745, 50)"
     },
     "metadata": {},
     "execution_count": 6
    }
   ],
   "source": [
    "model = gensim.models.Word2Vec(X, size=50)\n",
    "w2v = dict(zip(model.wv.index2word, model.wv.vectors))\n",
    "\n",
    "vectorizer = TfidfEmbeddingVectorizer(w2v).fit(X, y)\n",
    "embeddings = vectorizer.transform(X)\n",
    "embeddings.shape"
   ]
  },
  {
   "cell_type": "code",
   "execution_count": 13,
   "metadata": {},
   "outputs": [],
   "source": [
    "d = pd.read_csv(\"data/preprocessed/spotify-data-preprocessed.csv\", \",\")\n",
    "d.iloc[idx].to_csv()"
   ]
  },
  {
   "cell_type": "code",
   "execution_count": 8,
   "metadata": {},
   "outputs": [
    {
     "output_type": "execute_result",
     "data": {
      "text/plain": "(1396, 50)"
     },
     "metadata": {},
     "execution_count": 8
    }
   ],
   "source": [
    "embeddings.shape"
   ]
  },
  {
   "cell_type": "code",
   "execution_count": 34,
   "metadata": {},
   "outputs": [
    {
     "output_type": "execute_result",
     "data": {
      "text/plain": "(1396,)"
     },
     "metadata": {},
     "execution_count": 34
    }
   ],
   "source": [
    "embeddings.shape"
   ]
  },
  {
   "cell_type": "code",
   "execution_count": 38,
   "metadata": {},
   "outputs": [
    {
     "output_type": "execute_result",
     "data": {
      "text/plain": "(1745, 10)"
     },
     "metadata": {},
     "execution_count": 38
    }
   ],
   "source": [
    "sentiment.shape"
   ]
  },
  {
   "cell_type": "code",
   "execution_count": 16,
   "metadata": {},
   "outputs": [
    {
     "output_type": "execute_result",
     "data": {
      "text/plain": "      ECHOISMS  DUPLICATE_LINES  IS_TITLE_IN_LYRICS  VERB_PRESENT  VERB_PAST  \\\n0          0.0         0.076087               False      0.901235   0.098765   \n1          0.0         0.127479               False      0.555556   0.444444   \n10         0.0         0.039683                True      0.625000   0.375000   \n100        0.0         0.080247               False      0.541176   0.447059   \n1000       0.0         0.000000               False      0.750000   0.250000   \n...        ...              ...                 ...           ...        ...   \n995        0.0         0.094203               False      0.838710   0.145161   \n996        0.0         0.196078                True      0.600000   0.400000   \n997        0.0         0.009009               False      0.950000   0.050000   \n998        0.0         0.057279               False      0.823529   0.058824   \n999        0.0         0.087432               False      0.939394   0.060606   \n\n      VERB_FUTURE  ADJ_FREQUENCIES  PUNCT_FREQUENCIES  VERB_FREQUENCIES  \\\n0        0.000000         0.111413           0.040761          0.334239   \n1        0.000000         0.045326           0.186969          0.274788   \n10       0.000000         0.190476           0.055556          0.174603   \n100      0.011765         0.043210           0.061728          0.419753   \n1000     0.000000         0.024390           0.097561          0.243902   \n...           ...              ...                ...               ...   \n995      0.016129         0.090580           0.003623          0.329710   \n996      0.000000         0.274510           0.000000          0.176471   \n997      0.000000         0.067568           0.067568          0.243243   \n998      0.117647         0.188544           0.040573          0.143198   \n999      0.000000         0.060109           0.043716          0.267760   \n\n      X_FREQUENCIES  \n0          0.000000  \n1          0.000000  \n10         0.000000  \n100        0.000000  \n1000       0.000000  \n...             ...  \n995        0.000000  \n996        0.078431  \n997        0.000000  \n998        0.000000  \n999        0.000000  \n\n[1745 rows x 10 columns]",
      "text/html": "<div>\n<style scoped>\n    .dataframe tbody tr th:only-of-type {\n        vertical-align: middle;\n    }\n\n    .dataframe tbody tr th {\n        vertical-align: top;\n    }\n\n    .dataframe thead th {\n        text-align: right;\n    }\n</style>\n<table border=\"1\" class=\"dataframe\">\n  <thead>\n    <tr style=\"text-align: right;\">\n      <th></th>\n      <th>ECHOISMS</th>\n      <th>DUPLICATE_LINES</th>\n      <th>IS_TITLE_IN_LYRICS</th>\n      <th>VERB_PRESENT</th>\n      <th>VERB_PAST</th>\n      <th>VERB_FUTURE</th>\n      <th>ADJ_FREQUENCIES</th>\n      <th>PUNCT_FREQUENCIES</th>\n      <th>VERB_FREQUENCIES</th>\n      <th>X_FREQUENCIES</th>\n    </tr>\n  </thead>\n  <tbody>\n    <tr>\n      <th>0</th>\n      <td>0.0</td>\n      <td>0.076087</td>\n      <td>False</td>\n      <td>0.901235</td>\n      <td>0.098765</td>\n      <td>0.000000</td>\n      <td>0.111413</td>\n      <td>0.040761</td>\n      <td>0.334239</td>\n      <td>0.000000</td>\n    </tr>\n    <tr>\n      <th>1</th>\n      <td>0.0</td>\n      <td>0.127479</td>\n      <td>False</td>\n      <td>0.555556</td>\n      <td>0.444444</td>\n      <td>0.000000</td>\n      <td>0.045326</td>\n      <td>0.186969</td>\n      <td>0.274788</td>\n      <td>0.000000</td>\n    </tr>\n    <tr>\n      <th>10</th>\n      <td>0.0</td>\n      <td>0.039683</td>\n      <td>True</td>\n      <td>0.625000</td>\n      <td>0.375000</td>\n      <td>0.000000</td>\n      <td>0.190476</td>\n      <td>0.055556</td>\n      <td>0.174603</td>\n      <td>0.000000</td>\n    </tr>\n    <tr>\n      <th>100</th>\n      <td>0.0</td>\n      <td>0.080247</td>\n      <td>False</td>\n      <td>0.541176</td>\n      <td>0.447059</td>\n      <td>0.011765</td>\n      <td>0.043210</td>\n      <td>0.061728</td>\n      <td>0.419753</td>\n      <td>0.000000</td>\n    </tr>\n    <tr>\n      <th>1000</th>\n      <td>0.0</td>\n      <td>0.000000</td>\n      <td>False</td>\n      <td>0.750000</td>\n      <td>0.250000</td>\n      <td>0.000000</td>\n      <td>0.024390</td>\n      <td>0.097561</td>\n      <td>0.243902</td>\n      <td>0.000000</td>\n    </tr>\n    <tr>\n      <th>...</th>\n      <td>...</td>\n      <td>...</td>\n      <td>...</td>\n      <td>...</td>\n      <td>...</td>\n      <td>...</td>\n      <td>...</td>\n      <td>...</td>\n      <td>...</td>\n      <td>...</td>\n    </tr>\n    <tr>\n      <th>995</th>\n      <td>0.0</td>\n      <td>0.094203</td>\n      <td>False</td>\n      <td>0.838710</td>\n      <td>0.145161</td>\n      <td>0.016129</td>\n      <td>0.090580</td>\n      <td>0.003623</td>\n      <td>0.329710</td>\n      <td>0.000000</td>\n    </tr>\n    <tr>\n      <th>996</th>\n      <td>0.0</td>\n      <td>0.196078</td>\n      <td>True</td>\n      <td>0.600000</td>\n      <td>0.400000</td>\n      <td>0.000000</td>\n      <td>0.274510</td>\n      <td>0.000000</td>\n      <td>0.176471</td>\n      <td>0.078431</td>\n    </tr>\n    <tr>\n      <th>997</th>\n      <td>0.0</td>\n      <td>0.009009</td>\n      <td>False</td>\n      <td>0.950000</td>\n      <td>0.050000</td>\n      <td>0.000000</td>\n      <td>0.067568</td>\n      <td>0.067568</td>\n      <td>0.243243</td>\n      <td>0.000000</td>\n    </tr>\n    <tr>\n      <th>998</th>\n      <td>0.0</td>\n      <td>0.057279</td>\n      <td>False</td>\n      <td>0.823529</td>\n      <td>0.058824</td>\n      <td>0.117647</td>\n      <td>0.188544</td>\n      <td>0.040573</td>\n      <td>0.143198</td>\n      <td>0.000000</td>\n    </tr>\n    <tr>\n      <th>999</th>\n      <td>0.0</td>\n      <td>0.087432</td>\n      <td>False</td>\n      <td>0.939394</td>\n      <td>0.060606</td>\n      <td>0.000000</td>\n      <td>0.060109</td>\n      <td>0.043716</td>\n      <td>0.267760</td>\n      <td>0.000000</td>\n    </tr>\n  </tbody>\n</table>\n<p>1745 rows × 10 columns</p>\n</div>"
     },
     "metadata": {},
     "execution_count": 16
    }
   ],
   "source": []
  },
  {
   "cell_type": "code",
   "execution_count": 27,
   "metadata": {},
   "outputs": [
    {
     "output_type": "error",
     "ename": "AttributeError",
     "evalue": "'numpy.ndarray' object has no attribute 'columns'",
     "traceback": [
      "\u001b[1;31m---------------------------------------------------------------------------\u001b[0m",
      "\u001b[1;31mAttributeError\u001b[0m                            Traceback (most recent call last)",
      "\u001b[1;32m<ipython-input-27-8f128bd5e41e>\u001b[0m in \u001b[0;36m<module>\u001b[1;34m\u001b[0m\n\u001b[1;32m----> 1\u001b[1;33m \u001b[0msentiment\u001b[0m\u001b[1;33m.\u001b[0m\u001b[0mcolumns\u001b[0m\u001b[1;33m\u001b[0m\u001b[1;33m\u001b[0m\u001b[0m\n\u001b[0m",
      "\u001b[1;31mAttributeError\u001b[0m: 'numpy.ndarray' object has no attribute 'columns'"
     ]
    }
   ],
   "source": [
    "sentiment.columns"
   ]
  },
  {
   "cell_type": "code",
   "execution_count": null,
   "metadata": {},
   "outputs": [],
   "source": []
  }
 ],
 "metadata": {
  "language_info": {
   "codemirror_mode": {
    "name": "ipython",
    "version": 3
   },
   "file_extension": ".py",
   "mimetype": "text/x-python",
   "name": "python",
   "nbconvert_exporter": "python",
   "pygments_lexer": "ipython3",
   "version": "3.8.0-final"
  },
  "orig_nbformat": 2,
  "kernelspec": {
   "name": "python38064bit4539a5a599f24d04a1e10a4002ffd2cd",
   "display_name": "Python 3.8.0 64-bit"
  }
 },
 "nbformat": 4,
 "nbformat_minor": 2
}